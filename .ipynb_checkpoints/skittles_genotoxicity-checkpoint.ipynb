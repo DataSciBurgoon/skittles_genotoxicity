{
 "cells": [
  {
   "cell_type": "markdown",
   "id": "688d690f-02a2-4aae-8f9c-207cd54cfbe9",
   "metadata": {},
   "source": [
    "# How Many Skittles Would It Take to Reach the Alleged Genotoxic Dose?\n",
    "\n",
    "By: Lyle D. Burgoon, Ph.D., President and CEO of Raptor Pharm & Tox, Ltd.\n",
    "\n",
    "I have evaluated each of the studies cited by the European Food Safety Authority as being positive for genotoxicity. All of the studies have demonstrable flaws. In all cases, the study design and/or analyses were not performed correctly. As a result, there is no evidence that titanium dioxide causes genotoxicity.\n",
    "\n",
    "However, what if the studies were right? What if 80ug/mL of titanium dioxide really was genotoxic? \n",
    "\n",
    "How many skittles would someone need to ingest every day to reach that genotoxic dose?\n",
    "\n",
    "Let's find out.\n",
    "\n",
    "# Analysis\n",
    "\n",
    "I'm going to set the time range and initialize the TiO2 concentration. The time range will extend to 10 years and it will be hourly."
   ]
  },
  {
   "cell_type": "code",
   "execution_count": 1,
   "id": "c6bfe776-448b-4511-988e-9aa5b69a28f6",
   "metadata": {},
   "outputs": [],
   "source": [
    "time_range <- 365 * 24 * 10\n",
    "x <- 0"
   ]
  },
  {
   "cell_type": "markdown",
   "id": "f3e9a47c-19f2-41c4-8d77-ad2114716681",
   "metadata": {},
   "source": [
    "Consider that a serving size of skittles is 1 oz, which is about 28g which is about 27 pieces -- therefore a skittle is approximately 1.03g (see [here](https://api.hy-vee.cloud/cdn-cgi/image/f=auto,w=1080,q=60,dpr=1/https://a414d8b8be7ecf690411-24d26dc954d93c2734fedc44a84a7714.ssl.cf2.rackcdn.com/0022000279700_NF_hyvee1_default_large.jpeg)). Also consider that the US FDA limits the quantity of titanium dioxide in food to not exceed 1% by weight of the food (see [21 CFR 73.575](https://www.accessdata.fda.gov/scripts/cdrh/cfdocs/cfcfr/cfrsearch.cfm?fr=73.575#:~:text=(1)%20The%20quantity%20of%20titanium,is%20authorized%20by%20such%20standards)). This means that in a single skittle, there is at max 0.01g of titanium dioxide.\n",
    "\n",
    "Also consider that we generally assume humans have 5L of blood.\n",
    "\n",
    "The data from [Disdier et al.](https://link.springer.com/article/10.1186/s12989-015-0102-8) shows that 2% of the total TiO2 dose, when given intravenously, ended up in the spleen. That same study also demonstrated a half-life of around 365 days for TiO2 in the spleen.\n",
    "\n",
    "Using this information, and the well-known equation for the half-life of a chemical we can estimate the clearance rate. Specifically, the clearance rate is the amount of blood that is cleared of a chemical per unit time, typically 1 hour.\n",
    "\n",
    "That equation is given in [StatPearls](https://www.ncbi.nlm.nih.gov/books/NBK545280/) as:\n",
    "\n",
    "$$ t_{1/2} = \\frac{0.693 * V_d}{CL} $$\n",
    "\n",
    "What this means is that the half-life ($ t_{1/2} $) is a function of the volume of distribution ($ V_d $) divided by the clearance rate ($ CL $). We can re-arrange this algabraically to calculate the clearance rate:\n",
    "\n",
    "$$ CL = \\frac{(0.693 * V_d)}{t_{1/2}} $$\n",
    "\n",
    "From Disdier et al. we have the half-life. We now need to calculate the volume of distribution:\n",
    "\n",
    "$$ V_d = \\frac{A_t}{C_t} $$\n",
    "\n",
    "This means that the volume of distribution, $V_d$, is a function of the amount of chemical in the body at time = t, $A_t$, divided by the plasma chemical concentration at time = t, $C_t$. We know that in the Disdier et al. study the animals were dosed with 1mg/kg of TiO2 intravenously. Since this was intravenous administration, we know that all of the chemical made it into the blood. The average weight of the rats in the study was about 215g. That means that the total amount of drug administered IV was:\n",
    "\n",
    "$$ (1 \\frac{mg}{kg}) * (.215kg) = 0.215mg $$\n",
    "\n",
    "The plasma concentration at time 0, when the total amount of drug was administered was 39 ng/g. So I'll convert this to mg/L next:\n",
    "\n",
    "$$ (39 \\frac{ng}{g}) * (1.03 \\frac{g}{mL}) * (\\frac{1 g}{1e9 ng}) * (1000 \\frac{mg}{g}) * (1000 \\frac{mL}{L}) = 0.04mg/L $$\n",
    "\n",
    "Now that we have the plasma concentration at time 0, and we know the administered dose at time 0 (which is the amount of chemical in the body at time 0), we can calculate the volume of distribution:\n",
    "\n",
    "$$ Vd = \\frac{0.215 mg}{0.04 mg/L} = 5.375 L $$\n",
    "\n",
    "And now that we have the volume of distribution, we can calculate the clearance rate:\n",
    "\n",
    "$$ CL = \\frac{(0.693 * V_d)}{t_{1/2}} $$\n",
    "\n",
    "$$ CL = \\frac{(0.693 * 5.375 L)}{365 days * 24 \\frac{h}{day}} $$\n",
    "\n",
    "$$ CL = 4.25x10^{-4} L/h $$\n",
    "\n",
    "This clearance rate represents the amount of plasma that is completely rid of the drug per hour. We will use this in the 1-compartment pharmacokinetic model.\n",
    "\n",
    "Now, you might ask why am I doing a simplistic 1-compartment model when I was data for other organs. The reason is simple. I do not need complete accuracy. I need a model that is good enough to estimate the number of skittles. I could build a more complete model, but given the fact that the spleen has such a large half-life compared to all of the other compartments/organs, and given the fact that liver will clear TiO2 faster, and the fact that spleen has such low absorption that means the other compartments will have very little impact on the spleen's concentrations of TiO2. In addition here's the biggest factor:\n",
    "\n",
    "The dose required to see genotoxicity according to the studies identified by EFSA is typically around 80ug/mL. That is equivalent to 80mg/L. If we convert this to molar concentration it is:\n",
    "\n",
    "$$ (80 \\frac{mg}{L}) * (1 \\frac{g}{1000 mg}) * (1 \\frac{mole}{79.866 g}) = (0.001 \\frac{mol}{L}) * (1000 \\frac{mmol}{mol}) = 1 mmol/L = 1 mM $$\n",
    "\n",
    "Consider that most drugs are designed to show their biological effects in the nanomolar range ($ 1x10^{-6} mM $) and hormones tend to be in the picomolar range ($ 1x10^{-9} mM $). Put another way, we do not normally consider mg/L chemical concentrations to be human relevant, and you'll see why at the end of this analysis. \n",
    "\n",
    "Next, I'm going to encode the dosage information for the analysis, and create a placeholder object in R to hold the hourly TiO2 concentration data for the spleen.\n",
    "\n",
    "In this case the dose is going to be 27 skittles per day, with 10mg of TiO2 per skittle (recall a skittle is approximately 1.03g, and the FDA regulation only allows a max of 1% of the weight can be TiO2, thus 10mg of TiO2 per skittle), with 0.1% of the TiO2 being absorbed (see [EFSA safety assessment of titanium dioxide (E171) as a food additive](https://www.efsa.europa.eu/en/efsajournal/pub/6585)), and 2% of the absorbed TiO2 making it to the spleen, and the dose being deposited into 5L of blood:"
   ]
  },
  {
   "cell_type": "code",
   "execution_count": 2,
   "id": "547f3127-3b8e-472c-8b9a-91e328541c2c",
   "metadata": {},
   "outputs": [],
   "source": [
    "dose <- 27 * 10 * 0.001 * 0.02 / 5  # mg of TiO2 absorbed per L of blood\n",
    "vals <- NULL"
   ]
  },
  {
   "cell_type": "markdown",
   "id": "85008ab2-1e71-4043-bb6c-11ccd63411f2",
   "metadata": {},
   "source": [
    "The next code block will encapsulate the ordinary differential equation that governs the pharmacokinetic model. In this case the model is pretty straightforward, so I can just run it through a for loop:"
   ]
  },
  {
   "cell_type": "code",
   "execution_count": 3,
   "id": "3c19e0a7-0da4-4b07-a947-4c399765ef49",
   "metadata": {},
   "outputs": [],
   "source": [
    "for(i in 1:time_range){\n",
    "  if(i == 1){\n",
    "    x <- dose\n",
    "  }\n",
    "  x <- ((5 * x) - (x * 4.25e-4))/5\n",
    "  \n",
    "  if(i %% 24 == 0){\n",
    "    x <- x + dose\n",
    "  }\n",
    "  vals[i] <- x\n",
    "}\n"
   ]
  },
  {
   "cell_type": "markdown",
   "id": "63a0adbe-8373-451d-85ea-23d9c760e31c",
   "metadata": {},
   "source": [
    "Next, I'm going to visualize the data:"
   ]
  },
  {
   "cell_type": "code",
   "execution_count": 4,
   "id": "4973a220-ae17-4efe-bf5a-579cd631f176",
   "metadata": {},
   "outputs": [
    {
     "data": {
      "image/png": "[encoded data removed]",
      "text/plain": [
       "plot without title"
      ]
     },
     "metadata": {
      "image/png": {
       "height": 420,
       "width": 420
      }
     },
     "output_type": "display_data"
    }
   ],
   "source": [
    "plot(vals, xlab=\"hours\", ylab=\"TiO2 (mg/L)\")"
   ]
  },
  {
   "cell_type": "markdown",
   "id": "27f066e7-b588-474e-8f12-42b278284d6e",
   "metadata": {},
   "source": [
    "We can see that at 27 skittles per day (recall 27 skittles is a serving), the highest the splenic concentration of TiO2 will reach is just over 0.5mg/L. That is well below the 80mg/L where the studies cited by EFSA saw genotoxicity.\n",
    "\n",
    "What I found is that we need to take the dose up to 4,080 skittles per day to finally reach the 80mg/L level at steady state. Here's the analysis:"
   ]
  },
  {
   "cell_type": "code",
   "execution_count": 5,
   "id": "fbf3adf8-e5d8-4201-adb3-64ee643bf716",
   "metadata": {},
   "outputs": [
    {
     "data": {
      "text/html": [
       "80.0315903003634"
      ],
      "text/latex": [
       "80.0315903003634"
      ],
      "text/markdown": [
       "80.0315903003634"
      ],
      "text/plain": [
       "[1] 80.03159"
      ]
     },
     "metadata": {},
     "output_type": "display_data"
    },
    {
     "name": "stdout",
     "output_type": "stream",
     "text": [
      "[1] \"how many years to reach 80mg/L:  9.30684931506849\"\n",
      "[1] \"how many skittles per family size bag:  757.281553398058\"\n",
      "[1] \"how many family size bags to reach 4,080 skittles:  5.38769230769231\"\n",
      "[1] \"how much would this cost:  37.7138461538462\"\n",
      "[1] \"how much would this cost per year:  13765.5538461538\"\n"
     ]
    },
    {
     "data": {
      "image/png": "[encoded data removed]",
      "text/plain": [
       "plot without title"
      ]
     },
     "metadata": {
      "image/png": {
       "height": 420,
       "width": 420
      }
     },
     "output_type": "display_data"
    }
   ],
   "source": [
    "dose <- 4080 * 10 * 0.001 * 0.02 / 5  # mg of TiO2 absorbed per L of blood\n",
    "vals <- NULL\n",
    "\n",
    "for(i in 1:time_range){\n",
    "  if(i == 1){\n",
    "    x <- dose\n",
    "  }\n",
    "  x <- ((5 * x) - (x * 4.25e-4))/5\n",
    "  \n",
    "  if(i %% 24 == 0){\n",
    "    x <- x + dose\n",
    "  }\n",
    "  vals[i] <- x\n",
    "}\n",
    "\n",
    "plot(vals, xlab=\"hours\", ylab=\"TiO2 (mg/L)\")\n",
    "abline(v=24*365*5)\n",
    "text(x=48500, y = 40, \"5 years\")\n",
    "max(vals)\n",
    "\n",
    "# find how many days it would take to reach 80mg/L\n",
    "\n",
    "print(paste(\"how many years to reach 80mg/L: \", min(which(vals > 80)) / 24 / 365))\n",
    "\n",
    "# how many family size skittles bags would this be if a family\n",
    "# size bag is about 780g?\n",
    "\n",
    "# each skittle is 1.03g\n",
    "\n",
    "# how many skittles per family size bag?\n",
    "\n",
    "print(paste(\"how many skittles per family size bag: \" , skittles_per_family_bag <- 780 / 1.03))\n",
    "\n",
    "# how many family size bags to reach 4,080 skittles?\n",
    "print(paste(\"how many family size bags to reach 4,080 skittles: \", \n",
    "            bags_of_skittles_reqd <- 4080 / skittles_per_family_bag))\n",
    "\n",
    "# how much would this cost if each bag is $7?\n",
    "print(paste(\"how much would this cost: \", bags_of_skittles_reqd * 7))\n",
    "\n",
    "# and cost per year\n",
    "print(paste(\"how much would this cost per year: \", bags_of_skittles_reqd * 7 * 365))\n"
   ]
  },
  {
   "cell_type": "markdown",
   "id": "c875167b-969d-4a7e-ae11-5939bbe0ac3f",
   "metadata": {},
   "source": [
    "Let's note a few things. In order to reach 80mg/L, and thus observe genotoxicity in the spleen, someone needs to eat 4,080 skittles per day. That's going to be over 5 family size bags of skittles per day. It would cost \\\\$37.71 per day, and \\\\$13,765.55 per year -- in just skittles!\n",
    "\n",
    "But what if you wanted a loading dose -- a single dose in a single day that would get you to 80mg/L right away, and then you wanted to maintain that level for the rest of your life? How would you accomplish that?"
   ]
  },
  {
   "cell_type": "code",
   "execution_count": 6,
   "id": "4bb8d046-86b7-468f-8a08-f2d0c6fc02a2",
   "metadata": {},
   "outputs": [
    {
     "data": {
      "text/html": [
       "80.0781820443175"
      ],
      "text/latex": [
       "80.0781820443175"
      ],
      "text/markdown": [
       "80.0781820443175"
      ],
      "text/plain": [
       "[1] 80.07818"
      ]
     },
     "metadata": {},
     "output_type": "display_data"
    },
    {
     "name": "stdout",
     "output_type": "stream",
     "text": [
      "[1] \"how many years to reach 80mg/L:  0.00273972602739726\"\n",
      "[1] \"how many days to reach 80mg/L:  1\"\n",
      "[1] \"how many skittles per family size bag:  757.281553398058\"\n",
      "[1] \"how many family size bags to reach 2,000,000 skittles:  2641.02564102564\"\n",
      "[1] \"how much would this cost:  18487.1794871795\"\n"
     ]
    },
    {
     "data": {
      "image/png": "[encoded data removed]",
      "text/plain": [
       "plot without title"
      ]
     },
     "metadata": {
      "image/png": {
       "height": 420,
       "width": 420
      }
     },
     "output_type": "display_data"
    }
   ],
   "source": [
    "dose <- 2000000 * 10 * 0.001 * 0.02 / 5  # mg of TiO2 absorbed per L of blood\n",
    "vals <- NULL\n",
    "\n",
    "for(i in 1:time_range){\n",
    "  if(i == 1){\n",
    "    x <- dose\n",
    "  }\n",
    "  x <- ((5 * x) - (x * 4.25e-4))/5\n",
    "  \n",
    "  if(i %% 24 == 0){\n",
    "    x <- x + (4080 * 10 * 0.001 * 0.02 / 5)\n",
    "  }\n",
    "  vals[i] <- x\n",
    "}\n",
    "\n",
    "plot(vals, xlab=\"hours\", ylab=\"TiO2 (mg/L)\", ylim = c(70, 81))\n",
    "abline(v=24*365*5, h=80)\n",
    "text(x=48500, y = 40, \"5 years\")\n",
    "max(vals)\n",
    "\n",
    "# find how many days it would take to reach 80mg/L\n",
    "\n",
    "print(paste(\"how many years to reach 80mg/L: \", min(which(vals > 80)) / 24 / 365))\n",
    "\n",
    "print(paste(\"how many days to reach 80mg/L: \", min(which(vals > 80)) / 24))\n",
    "\n",
    "print(paste(\"how many skittles per family size bag: \" , skittles_per_family_bag <- 780 / 1.03))\n",
    "\n",
    "# how many family size bags to reach 2,000,000 skittles?\n",
    "print(paste(\"how many family size bags to reach 2,000,000 skittles: \", \n",
    "            bags_of_skittles_reqd <- 2000000 / skittles_per_family_bag))\n",
    "\n",
    "# how much would this cost if each bag is $7?\n",
    "print(paste(\"how much would this cost: \", bags_of_skittles_reqd * 7))\n"
   ]
  },
  {
   "cell_type": "markdown",
   "id": "4fd6dcb4-02f9-454c-90d3-0f583c3550f2",
   "metadata": {},
   "source": [
    "Easy -- just eat 2,000,000 in one day, and then just eat 4,080 each day thereafter, and you'll reach 80mg/L immediately, in a single day, and then you'll maintain that level for the rest of your life. By the way, 2,000,000 skittles would cost you about \\\\$18,487.18 \n",
    "\n",
    "I'm pretty sure whether you're eating 4,080 or 2,000,000 skittles per day, genotoxicity is the least of your concerns.\n",
    "\n",
    "# Analysis 2: What About the Children\n",
    "\n",
    "Children have less blood volume than adults. According to the [University of Iowa School of Medicine](https://medicine.uiowa.edu/iowaprotocols/maximum-allowable-blood-loss), most children will have a blood volume of 70-75 mL per kg of body weight. According to data from the CDC, via [Cincinnati Children's Hospital](https://www.cincinnatichildrens.org/health/g/normal-growth), most 4 year olds will weigh between 22-44 lbs; converting to kilograms that is approximately: 10-20 kg. If we were to estimate a 4 year old child being 15kg child were eating the skittles, then we would estimate a blood volume of: (70 ml/kg) * 10 kg = 700 mL = 0.70 L. \n",
    "\n",
    "For this we'll assume everything else is the same, but we'll adjust the blood volume down from 5L to 0.7L."
   ]
  },
  {
   "cell_type": "code",
   "execution_count": 7,
   "id": "ab7ea665-b31d-4921-b98c-fe23c93277a7",
   "metadata": {},
   "outputs": [
    {
     "data": {
      "text/html": [
       "80.0071222639041"
      ],
      "text/latex": [
       "80.0071222639041"
      ],
      "text/markdown": [
       "80.0071222639041"
      ],
      "text/plain": [
       "[1] 80.00712"
      ]
     },
     "metadata": {},
     "output_type": "display_data"
    },
    {
     "name": "stdout",
     "output_type": "stream",
     "text": [
      "[1] \"how many years to reach 80mg/L:  1.75068493150685\"\n",
      "[1] \"how many skittles per family size bag:  757.281553398058\"\n",
      "[1] \"how many family size bags to reach 4,080 skittles:  5.35071794871795\"\n",
      "[1] \"how much would this cost:  37.4550256410256\"\n",
      "[1] \"how much would this cost per year:  13671.0843589744\"\n"
     ]
    },
    {
     "data": {
      "image/png": "[encoded data removed]",
      "text/plain": [
       "plot without title"
      ]
     },
     "metadata": {
      "image/png": {
       "height": 420,
       "width": 420
      }
     },
     "output_type": "display_data"
    }
   ],
   "source": [
    "dose <- 4052 * 10 * 0.001 * 0.02 / 0.70  # mg of TiO2 absorbed per L of blood\n",
    "vals <- NULL\n",
    "\n",
    "for(i in 1:time_range){\n",
    "  if(i == 1){\n",
    "    x <- dose\n",
    "  }\n",
    "  x <- ((0.70 * x) - (x * 4.25e-4))/ 0.70\n",
    "  \n",
    "  if(i %% 24 == 0){\n",
    "    x <- x + dose\n",
    "  }\n",
    "  vals[i] <- x\n",
    "}\n",
    "\n",
    "plot(vals, xlab=\"hours\", ylab=\"TiO2 (mg/L)\")\n",
    "max(vals)\n",
    "\n",
    "# find how many days it would take to reach 80mg/L\n",
    "\n",
    "print(paste(\"how many years to reach 80mg/L: \", min(which(vals > 80)) / 24 / 365))\n",
    "\n",
    "# how many family size skittles bags would this be if a family\n",
    "# size bag is about 780g?\n",
    "\n",
    "# each skittle is 1.03g\n",
    "\n",
    "# how many skittles per family size bag?\n",
    "\n",
    "print(paste(\"how many skittles per family size bag: \" , skittles_per_family_bag <- 780 / 1.03))\n",
    "\n",
    "# how many family size bags to reach 4,052 skittles?\n",
    "print(paste(\"how many family size bags to reach 4,080 skittles: \", \n",
    "            bags_of_skittles_reqd <- 4052 / skittles_per_family_bag))\n",
    "\n",
    "# how much would this cost if each bag is $7?\n",
    "print(paste(\"how much would this cost: \", bags_of_skittles_reqd * 7))\n",
    "\n",
    "# and cost per year\n",
    "print(paste(\"how much would this cost per year: \", bags_of_skittles_reqd * 7 * 365))"
   ]
  },
  {
   "cell_type": "markdown",
   "id": "ce818f4b-3765-40fd-be1f-933740acf8eb",
   "metadata": {},
   "source": [
    "In this worst case, a 4 year old child with a body weight on the lower side of normal, at 22 lbs, would need to ingest 4,052 skittles per day. However, because the blood volume is smaller, the child would reach 80mg/L faster -- at 1.75 years. It would still cost \\$13,671 per year to fund this habit. "
   ]
  }
 ],
 "metadata": {
  "kernelspec": {
   "display_name": "R",
   "language": "R",
   "name": "ir"
  },
  "language_info": {
   "codemirror_mode": "r",
   "file_extension": ".r",
   "mimetype": "text/x-r-source",
   "name": "R",
   "pygments_lexer": "r",
   "version": "4.1.1"
  }
 },
 "nbformat": 4,
 "nbformat_minor": 5
}
